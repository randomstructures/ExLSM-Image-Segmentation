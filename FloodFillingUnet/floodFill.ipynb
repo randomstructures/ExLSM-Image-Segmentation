{
 "metadata": {
  "language_info": {
   "codemirror_mode": {
    "name": "ipython",
    "version": 3
   },
   "file_extension": ".py",
   "mimetype": "text/x-python",
   "name": "python",
   "nbconvert_exporter": "python",
   "pygments_lexer": "ipython3",
   "version": 3
  },
  "orig_nbformat": 2
 },
 "nbformat": 4,
 "nbformat_minor": 2,
 "cells": [
  {
   "cell_type": "markdown",
   "metadata": {},
   "source": [
    "# Implementation of Flood Fill Strategy for Instance Segmentation\n",
    "\n",
    "The Flood Filling approach demonstrated by [Januszewski et al.](https://arxiv.org/abs/1611.00421) does not strictly depend on the underlying architecture of the FCCN used. Here we try to adapt the implented 3D Unet to be trained and used as a flood filling network.\n",
    "\n",
    "Flood Filling networks actively construct a segmentation mask that is fed into the network together with the input image. This results in a quasi recurrent architecture that can incorporate previous predictions made for the border regions.\n",
    "\n",
    "In inference mode the flood filling algorithm works as follows:\n",
    "- Retrieve a Tile from the top of the working queue and ensure that is has not been visited before\n",
    "- Evaluate the FCCN on a 3D Tile of training data and the segmentation canvas\n",
    "- Write the FCCN ouput to the segmentation canvas\n",
    "- Evaluate in which directions the object extends and add the respective tiles to a queue.\n",
    "\n",
    "For training the segmentation canvas is initialy blank except for a single seed withing the object that is currently segmented. The training volume allows to jump at least to imediately neighbouring tiles and continue segmentation with the previous prediction before a new scene is loaded.\n",
    "\n",
    "The following tasks need to be adresses in order to implement the flood filling approach:\n",
    "\n",
    "Stage 1: Single object segmentation\n",
    "The first intermediate goal is to segment single neuron data using the flood filling approach. This potentially reduces the number of tiles that need to be evaluated since the network explores the neuron processes. \n",
    "\n",
    "- Adapt the Unet to expect two channel input (image and segmentation mask)\n",
    "- Write a class that \n",
    "  - tiles the image with overlapping tiles, \n",
    "  - maintains the segmentation mask, \n",
    "  - delivers appropriate slices of image and segmentation mask, \n",
    "  - maintains a tile coordinate queue that should be visited and \n",
    "  - prevents reevaluation of visited sites\n",
    "- Write a custom training script that feeds a seeded segmentation mask and a small region of the image for training\n",
    "- Write a custom evaluation script that executes segmentation of large volumes by running the segmentation loop over longer time\n",
    "\n",
    "Stage 2: Multi Object Segmentation\n",
    "In a next step image data and ground truth for multi neuron situations should be generated and used to train the FCCN so that it learns to ignore signals that are not adjacent to previously masked regions -> generalizes the network for instance segmentation."
   ]
  },
  {
   "cell_type": "code",
   "execution_count": null,
   "metadata": {},
   "outputs": [],
   "source": []
  }
 ]
}