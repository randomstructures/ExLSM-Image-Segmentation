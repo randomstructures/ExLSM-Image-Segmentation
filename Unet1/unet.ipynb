{
 "cells": [
  {
   "cell_type": "markdown",
   "metadata": {},
   "source": [
    "# Prestudy 1 | Implementation of a sample Unet architecture\n",
    "June 2020,\n",
    "Linus Meienberg\n",
    "\n",
    "Implementation and training of a unet architecture following the tutorial provided under \n",
    "https://keras.io/examples/vision/oxford_pets_image_segmentation/\n",
    "\n",
    "The Oxford pet image dataset contains images of various cat and dog breeds that are annotated by pixel masks of the same size and assign background, border and interior pixels. "
   ]
  },
  {
   "cell_type": "code",
   "execution_count": 5,
   "metadata": {
    "tags": []
   },
   "outputs": [],
   "source": [
    "import utility\n",
    "from importlib import reload  \n"
   ]
  },
  {
   "cell_type": "code",
   "execution_count": 6,
   "metadata": {},
   "outputs": [
    {
     "output_type": "execute_result",
     "data": {
      "text/plain": "<module 'utility' from 'x:\\\\lillvis\\\\temp\\\\linus\\\\VS_Workspace\\\\First Unet\\\\utility.py'>"
     },
     "metadata": {},
     "execution_count": 6
    }
   ],
   "source": [
    "reload(utility)"
   ]
  },
  {
   "cell_type": "code",
   "execution_count": 10,
   "metadata": {},
   "outputs": [],
   "source": [
    "# The dataset is downladed under \n",
    "# Locate the dataset files\n",
    "# X:\\lillvis\\temp\\linus\\OxfordPetDataset\n",
    "base_dir = 'X:/lillvis/temp/linus/OxfordPetDataset/'\n",
    "\n",
    "images, masks = utility.get_path_lists(base_dir)\n",
    "\n",
    "# shuffle the images\n",
    "images, masks = utility.shuffle_path_lists(images, masks)\n",
    "\n",
    "# set aside a validation fraction\n",
    "val_samples = 1000\n",
    "images_train = images[:-val_samples]\n",
    "masks_train = masks[:-val_samples]\n",
    "images_test = images[-val_samples:]\n",
    "masks_test = images[-val_samples:]\n"
   ]
  },
  {
   "cell_type": "code",
   "execution_count": 11,
   "metadata": {},
   "outputs": [
    {
     "output_type": "error",
     "ename": "NameError",
     "evalue": "name 'batch_size' is not defined",
     "traceback": [
      "\u001b[1;31m---------------------------------------------------------------------------\u001b[0m",
      "\u001b[1;31mNameError\u001b[0m                                 Traceback (most recent call last)",
      "\u001b[1;32m<ipython-input-11-77407eb3bec4>\u001b[0m in \u001b[0;36m<module>\u001b[1;34m\u001b[0m\n\u001b[0;32m      1\u001b[0m \u001b[1;31m# Instantiate a Sequence object to stream the training and test set\u001b[0m\u001b[1;33m\u001b[0m\u001b[1;33m\u001b[0m\u001b[1;33m\u001b[0m\u001b[0m\n\u001b[0;32m      2\u001b[0m train_gen = utility.OxfordPets(\n\u001b[1;32m----> 3\u001b[1;33m     \u001b[0mbatch_size\u001b[0m\u001b[1;33m,\u001b[0m \u001b[0mimg_size\u001b[0m\u001b[1;33m,\u001b[0m \u001b[0mtrain_input_img_paths\u001b[0m\u001b[1;33m,\u001b[0m \u001b[0mtrain_target_img_paths\u001b[0m\u001b[1;33m\u001b[0m\u001b[1;33m\u001b[0m\u001b[0m\n\u001b[0m\u001b[0;32m      4\u001b[0m )\n\u001b[0;32m      5\u001b[0m \u001b[0mtest_gen\u001b[0m \u001b[1;33m=\u001b[0m \u001b[0mutility\u001b[0m\u001b[1;33m.\u001b[0m\u001b[0mOxfordPets\u001b[0m\u001b[1;33m(\u001b[0m\u001b[0mbatch_size\u001b[0m\u001b[1;33m,\u001b[0m \u001b[0mimg_size\u001b[0m\u001b[1;33m,\u001b[0m \u001b[0mval_input_img_paths\u001b[0m\u001b[1;33m,\u001b[0m \u001b[0mval_target_img_paths\u001b[0m\u001b[1;33m)\u001b[0m\u001b[1;33m\u001b[0m\u001b[1;33m\u001b[0m\u001b[0m\n",
      "\u001b[1;31mNameError\u001b[0m: name 'batch_size' is not defined"
     ]
    }
   ],
   "source": [
    "# Instantiate a Sequence object to stream the training and test set\n",
    "batch_size = 32\n",
    "img_size = (160, 160)\n",
    "\n",
    "train_gen = utility.OxfordPets(\n",
    "    batch_size, img_size, train_input_img_paths, train_target_img_paths\n",
    ")\n",
    "test_gen = utility.OxfordPets(batch_size, img_size, val_input_img_paths, val_target_img_paths)"
   ]
  },
  {
   "cell_type": "code",
   "execution_count": null,
   "metadata": {},
   "outputs": [],
   "source": []
  }
 ],
 "metadata": {
  "language_info": {
   "codemirror_mode": {
    "name": "ipython",
    "version": 3
   },
   "file_extension": ".py",
   "mimetype": "text/x-python",
   "name": "python",
   "nbconvert_exporter": "python",
   "pygments_lexer": "ipython3",
   "version": "3.7.7-final"
  },
  "orig_nbformat": 2,
  "kernelspec": {
   "name": "python3",
   "display_name": "Python 3"
  }
 },
 "nbformat": 4,
 "nbformat_minor": 2
}