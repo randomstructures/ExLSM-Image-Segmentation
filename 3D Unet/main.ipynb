{
 "cells": [
  {
   "cell_type": "markdown",
   "metadata": {},
   "source": [
    "# Implementation of a 3D Unet Architecture\n"
   ]
  },
  {
   "cell_type": "code",
   "execution_count": 2,
   "metadata": {
    "tags": []
   },
   "outputs": [
    {
     "output_type": "stream",
     "name": "stdout",
     "text": "Notebook initialized with ipy backend.\n"
    }
   ],
   "source": [
    "import numpy as np \n",
    "import matplotlib.pyplot as plt \n",
    "import os, time\n",
    "from importlib import reload\n",
    "\n",
    "# 3D visualization tools\n",
    "from mayavi import mlab\n",
    "mlab.init_notebook(backend='ipy')\n",
    "\n",
    "import tensorflow as tf\n",
    "import model, utilities"
   ]
  },
  {
   "cell_type": "code",
   "execution_count": 3,
   "metadata": {},
   "outputs": [],
   "source": [
    "# Import modules providing tools for image manipulation\n",
    "import sys\n",
    "sys.path.append('../tools/')\n",
    "import mosaic, deformation"
   ]
  },
  {
   "cell_type": "code",
   "execution_count": 67,
   "metadata": {
    "tags": []
   },
   "outputs": [
    {
     "output_type": "execute_result",
     "data": {
      "text/plain": "<module 'deformation' from '../tools\\\\deformation.py'>"
     },
     "metadata": {},
     "execution_count": 67
    }
   ],
   "source": [
    "reload(utilities)\n",
    "reload(model)\n",
    "reload(deformation)"
   ]
  },
  {
   "cell_type": "code",
   "execution_count": 20,
   "metadata": {
    "tags": []
   },
   "outputs": [
    {
     "output_type": "stream",
     "name": "stdout",
     "text": "1 Physical GPUs, 1 Logical GPUs\n"
    }
   ],
   "source": [
    "# Fix for tensorflow-gpu issues that I found online... (don't ask me what it does)\n",
    "gpus = tf.config.experimental.list_physical_devices('GPU')\n",
    "if gpus:\n",
    "  try:\n",
    "    # Currently, memory growth needs to be the same across GPUs\n",
    "    for gpu in gpus:\n",
    "      tf.config.experimental.set_memory_growth(gpu, True)\n",
    "    logical_gpus = tf.config.experimental.list_logical_devices('GPU')\n",
    "    print(len(gpus), \"Physical GPUs,\", len(logical_gpus), \"Logical GPUs\")\n",
    "  except RuntimeError as e:\n",
    "    # Memory growth must be set before GPUs have been initialized\n",
    "    print(e)"
   ]
  },
  {
   "cell_type": "code",
   "execution_count": 4,
   "metadata": {
    "tags": []
   },
   "outputs": [
    {
     "output_type": "stream",
     "name": "stdout",
     "text": "[92, 100, 108, 116, 124, 132, 140, 148, 156, 164, 172, 180, 188, 196, 204, 212, 220, 228, 236, 244, 252, 260, 268, 276, 284, 292, 300, 308, 316, 324, 332, 340, 348, 356, 364, 372, 380, 388, 396, 404, 412, 420, 428, 436, 444, 452, 460, 468, 476, 484, 492, 500, 508]\nOutput shape at 252 is 164.0\n"
    }
   ],
   "source": [
    "# Get permissible network input sized (cube lengths)\n",
    "n_blocks = 2\n",
    "valid_inputs = [n for n in range(512) if utilities.check_size(n, n_blocks=n_blocks)[0]]\n",
    "print(valid_inputs)\n",
    "print('Output shape at {} is {}'.format(252,utilities.check_size(252, n_blocks)[1]))"
   ]
  },
  {
   "cell_type": "code",
   "execution_count": 21,
   "metadata": {},
   "outputs": [],
   "source": [
    "unet = model.Unet(n_blocks=2, initial_filters=8)"
   ]
  },
  {
   "cell_type": "code",
   "execution_count": 23,
   "metadata": {
    "tags": []
   },
   "outputs": [
    {
     "output_type": "stream",
     "name": "stdout",
     "text": "Model: \"Unet\"\n_________________________________________________________________\nLayer (type)                 Output Shape              Param #   \n=================================================================\ninput_block (InputBlock)     multiple                  3696      \n_________________________________________________________________\ndownsample_block (Downsample multiple                  20784     \n_________________________________________________________________\ndownsample_block_1 (Downsamp multiple                  83040     \n_________________________________________________________________\nbottleneck_block (Bottleneck multiple                  463168    \n_________________________________________________________________\nupsample_block (UpsampleBloc multiple                  475328    \n_________________________________________________________________\nupsample_block_1 (UpsampleBl multiple                  118880    \n_________________________________________________________________\noutput_block (OutputBlock)   multiple                  27714     \n=================================================================\nTotal params: 1,192,610\nTrainable params: 1,192,610\nNon-trainable params: 0\n_________________________________________________________________\n"
    }
   ],
   "source": [
    "unet.summary()"
   ]
  },
  {
   "cell_type": "code",
   "execution_count": 29,
   "metadata": {},
   "outputs": [],
   "source": [
    "# Load some slices from the dataset\n",
    "\n",
    "# Locate the sample directory on the computer\n",
    "base_dir = 'C:\\\\Users\\\\Linus Meienberg\\\\Documents\\\\ML Datasets\\\\FruSingleNeuron_20190707\\\\SampleCrops'\n",
    "samples = os.listdir(base_dir)\n",
    "\n",
    "#Load the first sample\n",
    "sample = utilities.load_volume(os.path.join(base_dir, samples[0]))"
   ]
  },
  {
   "cell_type": "code",
   "execution_count": 47,
   "metadata": {},
   "outputs": [
    {
     "output_type": "display_data",
     "data": {
      "text/plain": "Image(value=b'\\x89PNG\\r\\n\\x1a\\n\\x00\\x00\\x00\\rIHDR\\x00\\x00\\x01\\xf4\\x00\\x00\\x01\\xf4\\x08\\x02\\x00\\x00\\x00D\\xb4H\\xd…",
      "application/vnd.jupyter.widget-view+json": {
       "version_major": 2,
       "version_minor": 0,
       "model_id": "0d70338cb3d74035b89cd500e45e1aed"
      }
     },
     "metadata": {}
    }
   ],
   "source": [
    "utilities.show3DImage(sample['image'])"
   ]
  },
  {
   "cell_type": "code",
   "execution_count": 54,
   "metadata": {
    "tags": []
   },
   "outputs": [
    {
     "output_type": "display_data",
     "data": {
      "text/plain": "Image(value=b'\\x89PNG\\r\\n\\x1a\\n\\x00\\x00\\x00\\rIHDR\\x00\\x00\\x01\\xf4\\x00\\x00\\x01\\xf4\\x08\\x02\\x00\\x00\\x00D\\xb4H\\xd…",
      "application/vnd.jupyter.widget-view+json": {
       "version_major": 2,
       "version_minor": 0,
       "model_id": "9811e4a8151c4fc1a46c0f678d82ca42"
      }
     },
     "metadata": {}
    }
   ],
   "source": [
    "utilities.show3DImage(sample['mask'], mode='mask')"
   ]
  },
  {
   "cell_type": "code",
   "execution_count": 33,
   "metadata": {},
   "outputs": [
    {
     "output_type": "execute_result",
     "data": {
      "text/plain": "(array([28756806,  3184260,     2934], dtype=int64),\n array([0., 1., 2., 3.], dtype=float32))"
     },
     "metadata": {},
     "execution_count": 33
    }
   ],
   "source": [
    "np.histogram(sample['mask'], bins=3)\n",
    "#NOTE The mask seems to contain integer values up to 3 how does that come? what does it signify? "
   ]
  },
  {
   "cell_type": "code",
   "execution_count": 71,
   "metadata": {},
   "outputs": [],
   "source": [
    "displacement = deformation.displacementGridField3D((220,220,220), n_lines=5)\n",
    "sample_img_deformed = deformation.applyDisplacementField3D(sample['image'], *displacement)\n",
    "sample_mask_deformed = deformation.applyDisplacementField3D(sample['mask'], *displacement)"
   ]
  },
  {
   "cell_type": "code",
   "execution_count": 72,
   "metadata": {},
   "outputs": [
    {
     "output_type": "display_data",
     "data": {
      "text/plain": "Image(value=b'\\x89PNG\\r\\n\\x1a\\n\\x00\\x00\\x00\\rIHDR\\x00\\x00\\x01\\xf4\\x00\\x00\\x01\\xf4\\x08\\x02\\x00\\x00\\x00D\\xb4H\\xd…",
      "application/vnd.jupyter.widget-view+json": {
       "version_major": 2,
       "version_minor": 0,
       "model_id": "2997c93efd94458cb4274453756d4ac6"
      }
     },
     "metadata": {}
    }
   ],
   "source": [
    "utilities.show3DImage(sample_img_deformed)"
   ]
  },
  {
   "cell_type": "code",
   "execution_count": 70,
   "metadata": {},
   "outputs": [
    {
     "output_type": "display_data",
     "data": {
      "text/plain": "Image(value=b'\\x89PNG\\r\\n\\x1a\\n\\x00\\x00\\x00\\rIHDR\\x00\\x00\\x01\\xf4\\x00\\x00\\x01\\xf4\\x08\\x02\\x00\\x00\\x00D\\xb4H\\xd…",
      "application/vnd.jupyter.widget-view+json": {
       "version_major": 2,
       "version_minor": 0,
       "model_id": "2665e90c488f4b5a91d20fe729234baa"
      }
     },
     "metadata": {}
    }
   ],
   "source": [
    "displacement = deformation.displacementGridField3D((220,220,220), n_lines=5)\n",
    "mlab.figure(size=(500,500))\n",
    "#plot = mlab.contour3d(sample_img_deformed[:,:,:,0],contours = 4, transparent=True)\n",
    "plot = mlab.pipeline.vector_field(*displacement)\n",
    "mlab.pipeline.vectors(plot, mask_points=2000, scale_factor=50.)\n",
    "plot"
   ]
  },
  {
   "cell_type": "code",
   "execution_count": 36,
   "metadata": {},
   "outputs": [],
   "source": [
    "pred = unet(np.expand_dims(sample_img,axis=0))"
   ]
  },
  {
   "cell_type": "code",
   "execution_count": 37,
   "metadata": {},
   "outputs": [
    {
     "output_type": "execute_result",
     "data": {
      "text/plain": "TensorShape([1, 132, 132, 132, 2])"
     },
     "metadata": {},
     "execution_count": 37
    }
   ],
   "source": [
    "pred.shape"
   ]
  },
  {
   "cell_type": "code",
   "execution_count": null,
   "metadata": {},
   "outputs": [],
   "source": []
  }
 ],
 "metadata": {
  "language_info": {
   "codemirror_mode": {
    "name": "ipython",
    "version": 3
   },
   "file_extension": ".py",
   "mimetype": "text/x-python",
   "name": "python",
   "nbconvert_exporter": "python",
   "pygments_lexer": "ipython3",
   "version": "3.7.7-final"
  },
  "orig_nbformat": 2,
  "kernelspec": {
   "name": "python37764bitmlgpuconda09ab47ec0af1474a87a3758d948ae547",
   "display_name": "Python 3.7.7 64-bit ('MLGPU': conda)"
  }
 },
 "nbformat": 4,
 "nbformat_minor": 2
}